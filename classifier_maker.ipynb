{
  "nbformat": 4,
  "nbformat_minor": 0,
  "metadata": {
    "colab": {
      "provenance": [],
      "gpuType": "T4"
    },
    "kernelspec": {
      "name": "python3",
      "display_name": "Python 3"
    },
    "language_info": {
      "name": "python"
    },
    "accelerator": "GPU"
  },
  "cells": [
    {
      "cell_type": "code",
      "execution_count": 1,
      "metadata": {
        "colab": {
          "base_uri": "https://localhost:8080/"
        },
        "id": "nhRDbV9yYKoU",
        "outputId": "ce44477e-a96a-4f23-c291-82a67e91098f"
      },
      "outputs": [
        {
          "output_type": "stream",
          "name": "stdout",
          "text": [
            "Archive:  Record.zip\n",
            "   creating: Record/\n",
            "   creating: Record/1/\n",
            "  inflating: Record/1/1.csv          \n",
            "  inflating: Record/1/10.csv         \n",
            "  inflating: Record/1/11.csv         \n",
            "  inflating: Record/1/12.csv         \n",
            "  inflating: Record/1/13.csv         \n",
            "  inflating: Record/1/14.csv         \n",
            "  inflating: Record/1/15.csv         \n",
            "  inflating: Record/1/16.csv         \n",
            "  inflating: Record/1/17.csv         \n",
            "  inflating: Record/1/18.csv         \n",
            "  inflating: Record/1/19.csv         \n",
            "  inflating: Record/1/2.csv          \n",
            "  inflating: Record/1/20.csv         \n",
            "  inflating: Record/1/3.csv          \n",
            "  inflating: Record/1/4.csv          \n",
            "  inflating: Record/1/5.csv          \n",
            "  inflating: Record/1/6.csv          \n",
            "  inflating: Record/1/7.csv          \n",
            "  inflating: Record/1/8.csv          \n",
            "  inflating: Record/1/9.csv          \n",
            "   creating: Record/2/\n",
            "  inflating: Record/2/1.csv          \n",
            "  inflating: Record/2/10.csv         \n",
            "  inflating: Record/2/11.csv         \n",
            "  inflating: Record/2/12.csv         \n",
            "  inflating: Record/2/13.csv         \n",
            "  inflating: Record/2/14.csv         \n",
            "  inflating: Record/2/15.csv         \n",
            "  inflating: Record/2/16.csv         \n",
            "  inflating: Record/2/17.csv         \n",
            "  inflating: Record/2/18.csv         \n",
            "  inflating: Record/2/19.csv         \n",
            "  inflating: Record/2/2.csv          \n",
            "  inflating: Record/2/20.csv         \n",
            "  inflating: Record/2/3.csv          \n",
            "  inflating: Record/2/4.csv          \n",
            "  inflating: Record/2/5.csv          \n",
            "  inflating: Record/2/6.csv          \n",
            "  inflating: Record/2/7.csv          \n",
            "  inflating: Record/2/8.csv          \n",
            "  inflating: Record/2/9.csv          \n",
            "   creating: Record/3/\n",
            "  inflating: Record/3/1.csv          \n",
            "  inflating: Record/3/10.csv         \n",
            "  inflating: Record/3/11.csv         \n",
            "  inflating: Record/3/12.csv         \n",
            "  inflating: Record/3/13.csv         \n",
            "  inflating: Record/3/14.csv         \n",
            "  inflating: Record/3/15.csv         \n",
            "  inflating: Record/3/16.csv         \n",
            "  inflating: Record/3/17.csv         \n",
            "  inflating: Record/3/18.csv         \n",
            "  inflating: Record/3/19.csv         \n",
            "  inflating: Record/3/2.csv          \n",
            "  inflating: Record/3/20.csv         \n",
            "  inflating: Record/3/3.csv          \n",
            "  inflating: Record/3/4.csv          \n",
            "  inflating: Record/3/5.csv          \n",
            "  inflating: Record/3/6.csv          \n",
            "  inflating: Record/3/7.csv          \n",
            "  inflating: Record/3/8.csv          \n",
            "  inflating: Record/3/9.csv          \n",
            "   creating: Record/4/\n",
            "  inflating: Record/4/1.csv          \n",
            "  inflating: Record/4/10.csv         \n",
            "  inflating: Record/4/11.csv         \n",
            "  inflating: Record/4/12.csv         \n",
            "  inflating: Record/4/13.csv         \n",
            "  inflating: Record/4/14.csv         \n",
            "  inflating: Record/4/15.csv         \n",
            "  inflating: Record/4/16.csv         \n",
            "  inflating: Record/4/17.csv         \n",
            "  inflating: Record/4/18.csv         \n",
            "  inflating: Record/4/19.csv         \n",
            "  inflating: Record/4/2.csv          \n",
            "  inflating: Record/4/20.csv         \n",
            "  inflating: Record/4/3.csv          \n",
            "  inflating: Record/4/4.csv          \n",
            "  inflating: Record/4/5.csv          \n",
            "  inflating: Record/4/6.csv          \n",
            "  inflating: Record/4/7.csv          \n",
            "  inflating: Record/4/8.csv          \n",
            "  inflating: Record/4/9.csv          \n"
          ]
        }
      ],
      "source": [
        "!unzip \"Record.zip\""
      ]
    },
    {
      "cell_type": "code",
      "source": [
        "!pip install -Uqq fastai tsai"
      ],
      "metadata": {
        "id": "PJskAItgYfa_",
        "colab": {
          "base_uri": "https://localhost:8080/"
        },
        "outputId": "bc0f5f13-44e7-4550-cfc5-cc9a3edef508"
      },
      "execution_count": 2,
      "outputs": [
        {
          "output_type": "stream",
          "name": "stdout",
          "text": [
            "\u001b[2K     \u001b[90m━━━━━━━━━━━━━━━━━━━━━━━━━━━━━━━━━━━━━━━━\u001b[0m \u001b[32m324.2/324.2 kB\u001b[0m \u001b[31m5.8 MB/s\u001b[0m eta \u001b[36m0:00:00\u001b[0m\n",
            "\u001b[2K     \u001b[90m━━━━━━━━━━━━━━━━━━━━━━━━━━━━━━━━━━━━━━━━\u001b[0m \u001b[32m2.5/2.5 MB\u001b[0m \u001b[31m17.2 MB/s\u001b[0m eta \u001b[36m0:00:00\u001b[0m\n",
            "\u001b[2K     \u001b[90m━━━━━━━━━━━━━━━━━━━━━━━━━━━━━━━━━━━━━━━━\u001b[0m \u001b[32m235.6/235.6 kB\u001b[0m \u001b[31m29.5 MB/s\u001b[0m eta \u001b[36m0:00:00\u001b[0m\n",
            "\u001b[?25h"
          ]
        }
      ]
    },
    {
      "cell_type": "code",
      "source": [
        "import numpy as np\n",
        "import pandas as pd\n",
        "from fastai.data.all import *\n",
        "from fastai.basics import *\n",
        "from tsai.all import *"
      ],
      "metadata": {
        "id": "eqTuROm1Y0FI"
      },
      "execution_count": 3,
      "outputs": []
    },
    {
      "cell_type": "code",
      "source": [
        "path = Path(\"Record/\")\n",
        "path.ls()"
      ],
      "metadata": {
        "colab": {
          "base_uri": "https://localhost:8080/"
        },
        "id": "LXdt7Sh_ZO4o",
        "outputId": "54872f58-5df0-4438-e68b-96b2e2f38e3a"
      },
      "execution_count": 4,
      "outputs": [
        {
          "output_type": "execute_result",
          "data": {
            "text/plain": [
              "(#4) [Path('Record/3'),Path('Record/2'),Path('Record/4'),Path('Record/1')]"
            ]
          },
          "metadata": {},
          "execution_count": 4
        }
      ]
    },
    {
      "cell_type": "code",
      "source": [
        "files = []\n",
        "for a in path.ls():\n",
        "  files += a.ls()\n",
        "files"
      ],
      "metadata": {
        "colab": {
          "base_uri": "https://localhost:8080/"
        },
        "id": "gsaCVFsmWQkG",
        "outputId": "8dbb4fda-1b09-42d6-abf9-dc53644e095b"
      },
      "execution_count": 5,
      "outputs": [
        {
          "output_type": "execute_result",
          "data": {
            "text/plain": [
              "(#80) [Path('Record/3/7.csv'),Path('Record/3/5.csv'),Path('Record/3/4.csv'),Path('Record/3/13.csv'),Path('Record/3/8.csv'),Path('Record/3/1.csv'),Path('Record/3/15.csv'),Path('Record/3/20.csv'),Path('Record/3/10.csv'),Path('Record/3/19.csv')...]"
            ]
          },
          "metadata": {},
          "execution_count": 5
        }
      ]
    },
    {
      "cell_type": "code",
      "source": [
        "def resize(data):\n",
        "    new_idx = np.linspace(0,data.index[-1],301)\n",
        "    stretchedData = data.reindex(new_idx,method='ffill', limit=1).iloc[1:].interpolate()\n",
        "    return stretchedData\n",
        "\n",
        "def get_x_ts(x):\n",
        "  val = resize(pd.read_csv(x)).values\n",
        "  #val = (val - val.min(0))/(val.max(0) - val.min(0))\n",
        "  return val"
      ],
      "metadata": {
        "id": "5dFEpSsWZgou"
      },
      "execution_count": 6,
      "outputs": []
    },
    {
      "cell_type": "code",
      "source": [
        "dblock_ts = DataBlock(blocks=(TSTensorBlock, CategoryBlock),\n",
        "                      get_x=get_x_ts,\n",
        "                      get_y=parent_label,\n",
        "                      splitter=RandomSplitter(valid_pct=0.2),\n",
        "\n",
        "                      )\n",
        "\n",
        "dls_ts = dblock_ts.dataloaders(files,bs=4)\n"
      ],
      "metadata": {
        "id": "sTQuvN5YbdtW"
      },
      "execution_count": 7,
      "outputs": []
    },
    {
      "cell_type": "code",
      "source": [
        "a = dls_ts.dataset[1]\n",
        "a"
      ],
      "metadata": {
        "colab": {
          "base_uri": "https://localhost:8080/"
        },
        "id": "fbM9DQpbcMVz",
        "outputId": "2a3f4d4d-9989-43f3-961c-6fee9e9d1f5d"
      },
      "execution_count": 8,
      "outputs": [
        {
          "output_type": "execute_result",
          "data": {
            "text/plain": [
              "(array([[-0.18173212, -0.46567348,  0.24134758,  0.19178696, -0.47400886,\n",
              "          0.27004013],\n",
              "        [-0.18132756, -0.46490501,  0.24186262,  0.19253596, -0.472435  ,\n",
              "          0.27115259],\n",
              "        [-0.180923  , -0.46413654,  0.24237765,  0.19328496, -0.47086114,\n",
              "          0.27226505],\n",
              "        ...,\n",
              "        [-0.17701277, -0.46370667,  0.2029918 ,  0.17247541, -0.5043806 ,\n",
              "          0.2319335 ],\n",
              "        [-0.17559689, -0.46368825,  0.20316401,  0.17183462, -0.50461773,\n",
              "          0.23144807],\n",
              "        [-0.17418101, -0.46366984,  0.20333622,  0.17119384, -0.50485486,\n",
              "          0.23096263]]),\n",
              " TensorCategory(2))"
            ]
          },
          "metadata": {},
          "execution_count": 8
        }
      ]
    },
    {
      "cell_type": "code",
      "source": [
        "net = XceptionTimePlus(dls_ts.dataset[0][0].shape[-2], dls_ts.c)\n",
        "learn_ts = Learner(dls_ts, net, metrics=accuracy).to_fp16()\n",
        "learn_ts.fit_one_cycle(10)"
      ],
      "metadata": {
        "colab": {
          "base_uri": "https://localhost:8080/",
          "height": 363
        },
        "id": "-Fk5Dg_ib8Vl",
        "outputId": "95ea9cf2-5df0-4f0f-ab2c-0771d509cb82"
      },
      "execution_count": 9,
      "outputs": [
        {
          "output_type": "display_data",
          "data": {
            "text/plain": [
              "<IPython.core.display.HTML object>"
            ],
            "text/html": [
              "\n",
              "<style>\n",
              "    /* Turns off some styling */\n",
              "    progress {\n",
              "        /* gets rid of default border in Firefox and Opera. */\n",
              "        border: none;\n",
              "        /* Needs to be in here for Safari polyfill so background images work as expected. */\n",
              "        background-size: auto;\n",
              "    }\n",
              "    progress:not([value]), progress:not([value])::-webkit-progress-bar {\n",
              "        background: repeating-linear-gradient(45deg, #7e7e7e, #7e7e7e 10px, #5c5c5c 10px, #5c5c5c 20px);\n",
              "    }\n",
              "    .progress-bar-interrupted, .progress-bar-interrupted::-webkit-progress-bar {\n",
              "        background: #F44336;\n",
              "    }\n",
              "</style>\n"
            ]
          },
          "metadata": {}
        },
        {
          "output_type": "display_data",
          "data": {
            "text/plain": [
              "<IPython.core.display.HTML object>"
            ],
            "text/html": [
              "<table border=\"1\" class=\"dataframe\">\n",
              "  <thead>\n",
              "    <tr style=\"text-align: left;\">\n",
              "      <th>epoch</th>\n",
              "      <th>train_loss</th>\n",
              "      <th>valid_loss</th>\n",
              "      <th>accuracy</th>\n",
              "      <th>time</th>\n",
              "    </tr>\n",
              "  </thead>\n",
              "  <tbody>\n",
              "    <tr>\n",
              "      <td>0</td>\n",
              "      <td>1.249754</td>\n",
              "      <td>1.356539</td>\n",
              "      <td>0.187500</td>\n",
              "      <td>00:05</td>\n",
              "    </tr>\n",
              "    <tr>\n",
              "      <td>1</td>\n",
              "      <td>1.141863</td>\n",
              "      <td>0.986334</td>\n",
              "      <td>0.937500</td>\n",
              "      <td>00:01</td>\n",
              "    </tr>\n",
              "    <tr>\n",
              "      <td>2</td>\n",
              "      <td>1.058217</td>\n",
              "      <td>0.743697</td>\n",
              "      <td>0.937500</td>\n",
              "      <td>00:01</td>\n",
              "    </tr>\n",
              "    <tr>\n",
              "      <td>3</td>\n",
              "      <td>0.999110</td>\n",
              "      <td>0.621523</td>\n",
              "      <td>1.000000</td>\n",
              "      <td>00:01</td>\n",
              "    </tr>\n",
              "    <tr>\n",
              "      <td>4</td>\n",
              "      <td>0.948477</td>\n",
              "      <td>0.605404</td>\n",
              "      <td>1.000000</td>\n",
              "      <td>00:01</td>\n",
              "    </tr>\n",
              "    <tr>\n",
              "      <td>5</td>\n",
              "      <td>0.889220</td>\n",
              "      <td>0.528050</td>\n",
              "      <td>1.000000</td>\n",
              "      <td>00:02</td>\n",
              "    </tr>\n",
              "    <tr>\n",
              "      <td>6</td>\n",
              "      <td>0.828064</td>\n",
              "      <td>0.518155</td>\n",
              "      <td>1.000000</td>\n",
              "      <td>00:02</td>\n",
              "    </tr>\n",
              "    <tr>\n",
              "      <td>7</td>\n",
              "      <td>0.804014</td>\n",
              "      <td>0.485692</td>\n",
              "      <td>1.000000</td>\n",
              "      <td>00:01</td>\n",
              "    </tr>\n",
              "    <tr>\n",
              "      <td>8</td>\n",
              "      <td>0.797242</td>\n",
              "      <td>0.469457</td>\n",
              "      <td>1.000000</td>\n",
              "      <td>00:01</td>\n",
              "    </tr>\n",
              "    <tr>\n",
              "      <td>9</td>\n",
              "      <td>0.780316</td>\n",
              "      <td>0.448401</td>\n",
              "      <td>1.000000</td>\n",
              "      <td>00:01</td>\n",
              "    </tr>\n",
              "  </tbody>\n",
              "</table>"
            ]
          },
          "metadata": {}
        }
      ]
    },
    {
      "cell_type": "code",
      "source": [
        "learn_ts.export(\"model.pkl\")"
      ],
      "metadata": {
        "id": "RUDDmKukOG6D"
      },
      "execution_count": 10,
      "outputs": []
    }
  ]
}